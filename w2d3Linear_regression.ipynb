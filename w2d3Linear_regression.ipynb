{
  "nbformat": 4,
  "nbformat_minor": 0,
  "metadata": {
    "colab": {
      "name": "Linear-regression.ipynb",
      "provenance": [],
      "collapsed_sections": []
    },
    "kernelspec": {
      "name": "python3",
      "display_name": "Python 3"
    },
    "language_info": {
      "name": "python"
    }
  },
  "cells": [
    {
      "cell_type": "markdown",
      "metadata": {
        "id": "kqwNC_1CKFNE"
      },
      "source": [
        "# Linear Regression with Solubility dataset"
      ]
    },
    {
      "cell_type": "code",
      "metadata": {
        "id": "619ZFJflKBD4"
      },
      "source": [
        "# Importing necessary Libraries\n",
        "import pandas as pd\n",
        "from sklearn.model_selection import train_test_split"
      ],
      "execution_count": 1,
      "outputs": []
    },
    {
      "cell_type": "code",
      "metadata": {
        "colab": {
          "base_uri": "https://localhost:8080/"
        },
        "id": "wU4ppOdLKoIK",
        "outputId": "15f3681c-bbdc-4e81-bc31-f064e69967de"
      },
      "source": [
        "# Reading Data\n",
        "data = pd.read_csv(\"Delany_solu_lazy.csv\")\n",
        "print (data.head())\n",
        "data.shape"
      ],
      "execution_count": 5,
      "outputs": [
        {
          "output_type": "stream",
          "name": "stdout",
          "text": [
            "   MolLogP    MolWt  NumRotatableBonds  AromaticProportion  logS\n",
            "0   2.5954  167.850                  0                 0.0 -2.18\n",
            "1   2.3765  133.405                  0                 0.0 -2.00\n",
            "2   2.5938  167.850                  1                 0.0 -1.74\n",
            "3   2.0289  133.405                  1                 0.0 -1.48\n",
            "4   2.9189  187.375                  1                 0.0 -3.04\n"
          ]
        },
        {
          "output_type": "execute_result",
          "data": {
            "text/plain": [
              "(1144, 5)"
            ]
          },
          "metadata": {},
          "execution_count": 5
        }
      ]
    },
    {
      "cell_type": "code",
      "metadata": {
        "id": "FydXwh3lLXH_"
      },
      "source": [
        "X = data.drop([\"logS\"], axis= 1)\n",
        "Y = data.logS\n",
        "\n",
        "X_train, X_test, Y_train, Y_test = train_test_split(X, Y, test_size=0.2)"
      ],
      "execution_count": 8,
      "outputs": []
    },
    {
      "cell_type": "code",
      "metadata": {
        "colab": {
          "base_uri": "https://localhost:8080/",
          "height": 419
        },
        "id": "AAFSqz-qLuE-",
        "outputId": "22f2fb68-b17b-42e5-e517-ac6fd0211600"
      },
      "source": [
        "X"
      ],
      "execution_count": 10,
      "outputs": [
        {
          "output_type": "execute_result",
          "data": {
            "text/html": [
              "<div>\n",
              "<style scoped>\n",
              "    .dataframe tbody tr th:only-of-type {\n",
              "        vertical-align: middle;\n",
              "    }\n",
              "\n",
              "    .dataframe tbody tr th {\n",
              "        vertical-align: top;\n",
              "    }\n",
              "\n",
              "    .dataframe thead th {\n",
              "        text-align: right;\n",
              "    }\n",
              "</style>\n",
              "<table border=\"1\" class=\"dataframe\">\n",
              "  <thead>\n",
              "    <tr style=\"text-align: right;\">\n",
              "      <th></th>\n",
              "      <th>MolLogP</th>\n",
              "      <th>MolWt</th>\n",
              "      <th>NumRotatableBonds</th>\n",
              "      <th>AromaticProportion</th>\n",
              "    </tr>\n",
              "  </thead>\n",
              "  <tbody>\n",
              "    <tr>\n",
              "      <th>0</th>\n",
              "      <td>2.59540</td>\n",
              "      <td>167.850</td>\n",
              "      <td>0</td>\n",
              "      <td>0.000000</td>\n",
              "    </tr>\n",
              "    <tr>\n",
              "      <th>1</th>\n",
              "      <td>2.37650</td>\n",
              "      <td>133.405</td>\n",
              "      <td>0</td>\n",
              "      <td>0.000000</td>\n",
              "    </tr>\n",
              "    <tr>\n",
              "      <th>2</th>\n",
              "      <td>2.59380</td>\n",
              "      <td>167.850</td>\n",
              "      <td>1</td>\n",
              "      <td>0.000000</td>\n",
              "    </tr>\n",
              "    <tr>\n",
              "      <th>3</th>\n",
              "      <td>2.02890</td>\n",
              "      <td>133.405</td>\n",
              "      <td>1</td>\n",
              "      <td>0.000000</td>\n",
              "    </tr>\n",
              "    <tr>\n",
              "      <th>4</th>\n",
              "      <td>2.91890</td>\n",
              "      <td>187.375</td>\n",
              "      <td>1</td>\n",
              "      <td>0.000000</td>\n",
              "    </tr>\n",
              "    <tr>\n",
              "      <th>...</th>\n",
              "      <td>...</td>\n",
              "      <td>...</td>\n",
              "      <td>...</td>\n",
              "      <td>...</td>\n",
              "    </tr>\n",
              "    <tr>\n",
              "      <th>1139</th>\n",
              "      <td>1.98820</td>\n",
              "      <td>287.343</td>\n",
              "      <td>8</td>\n",
              "      <td>0.000000</td>\n",
              "    </tr>\n",
              "    <tr>\n",
              "      <th>1140</th>\n",
              "      <td>3.42130</td>\n",
              "      <td>286.114</td>\n",
              "      <td>2</td>\n",
              "      <td>0.333333</td>\n",
              "    </tr>\n",
              "    <tr>\n",
              "      <th>1141</th>\n",
              "      <td>3.60960</td>\n",
              "      <td>308.333</td>\n",
              "      <td>4</td>\n",
              "      <td>0.695652</td>\n",
              "    </tr>\n",
              "    <tr>\n",
              "      <th>1142</th>\n",
              "      <td>2.56214</td>\n",
              "      <td>354.815</td>\n",
              "      <td>3</td>\n",
              "      <td>0.521739</td>\n",
              "    </tr>\n",
              "    <tr>\n",
              "      <th>1143</th>\n",
              "      <td>2.02164</td>\n",
              "      <td>179.219</td>\n",
              "      <td>1</td>\n",
              "      <td>0.461538</td>\n",
              "    </tr>\n",
              "  </tbody>\n",
              "</table>\n",
              "<p>1144 rows × 4 columns</p>\n",
              "</div>"
            ],
            "text/plain": [
              "      MolLogP    MolWt  NumRotatableBonds  AromaticProportion\n",
              "0     2.59540  167.850                  0            0.000000\n",
              "1     2.37650  133.405                  0            0.000000\n",
              "2     2.59380  167.850                  1            0.000000\n",
              "3     2.02890  133.405                  1            0.000000\n",
              "4     2.91890  187.375                  1            0.000000\n",
              "...       ...      ...                ...                 ...\n",
              "1139  1.98820  287.343                  8            0.000000\n",
              "1140  3.42130  286.114                  2            0.333333\n",
              "1141  3.60960  308.333                  4            0.695652\n",
              "1142  2.56214  354.815                  3            0.521739\n",
              "1143  2.02164  179.219                  1            0.461538\n",
              "\n",
              "[1144 rows x 4 columns]"
            ]
          },
          "metadata": {},
          "execution_count": 10
        }
      ]
    },
    {
      "cell_type": "code",
      "metadata": {
        "colab": {
          "base_uri": "https://localhost:8080/"
        },
        "id": "JuJEkHjLLyFs",
        "outputId": "30d1bbdc-ba44-4405-bfa3-bc003b3b01f9"
      },
      "source": [
        "Y"
      ],
      "execution_count": 12,
      "outputs": [
        {
          "output_type": "execute_result",
          "data": {
            "text/plain": [
              "0      -2.180\n",
              "1      -2.000\n",
              "2      -1.740\n",
              "3      -1.480\n",
              "4      -3.040\n",
              "        ...  \n",
              "1139    1.144\n",
              "1140   -4.925\n",
              "1141   -3.893\n",
              "1142   -3.790\n",
              "1143   -2.581\n",
              "Name: logS, Length: 1144, dtype: float64"
            ]
          },
          "metadata": {},
          "execution_count": 12
        }
      ]
    },
    {
      "cell_type": "code",
      "metadata": {
        "id": "7f_PNZRWK6c2"
      },
      "source": [
        "# Linear regression import libraries\n",
        "from sklearn import linear_model\n",
        "from sklearn.metrics import mean_squared_error, r2_score\n"
      ],
      "execution_count": 13,
      "outputs": []
    },
    {
      "cell_type": "code",
      "metadata": {
        "id": "BsCZfb2lLHln"
      },
      "source": [
        "#Define and build model\n",
        "model = linear_model.LinearRegression()"
      ],
      "execution_count": 14,
      "outputs": []
    },
    {
      "cell_type": "code",
      "metadata": {
        "colab": {
          "base_uri": "https://localhost:8080/"
        },
        "id": "h_zt7SMvLMjn",
        "outputId": "6e7115cf-4fb7-4659-9105-ac59ae69d86e"
      },
      "source": [
        "#Train model\n",
        "model.fit(X_train, Y_train)"
      ],
      "execution_count": 15,
      "outputs": [
        {
          "output_type": "execute_result",
          "data": {
            "text/plain": [
              "LinearRegression(copy_X=True, fit_intercept=True, n_jobs=None, normalize=False)"
            ]
          },
          "metadata": {},
          "execution_count": 15
        }
      ]
    },
    {
      "cell_type": "code",
      "metadata": {
        "id": "11fJvwc_MB9L"
      },
      "source": [
        "#Applying trained model to test\n",
        "Y_pred = model.predict(X_test)"
      ],
      "execution_count": 17,
      "outputs": []
    },
    {
      "cell_type": "code",
      "metadata": {
        "colab": {
          "base_uri": "https://localhost:8080/"
        },
        "id": "X2ppXBFdMOEH",
        "outputId": "ca79374f-3c8a-45eb-cb41-927ad5621d56"
      },
      "source": [
        "#Model Performance\n",
        "\n",
        "print('Coefficients:', model.coef_)\n",
        "print('Intercept:', model.intercept_)\n",
        "print('Mean squared error (MSE): %.2f'\n",
        "      % mean_squared_error(Y_test, Y_pred))\n",
        "print('Coefficient of determination (R^2): %.2f'\n",
        "      % r2_score(Y_test, Y_pred))"
      ],
      "execution_count": 18,
      "outputs": [
        {
          "output_type": "stream",
          "name": "stdout",
          "text": [
            "Coefficients: [-0.72897126 -0.00702601  0.01475673 -0.42241228]\n",
            "Intercept: 0.2826080079758455\n",
            "Mean squared error (MSE): 1.01\n",
            "Coefficient of determination (R^2): 0.75\n"
          ]
        }
      ]
    },
    {
      "cell_type": "code",
      "metadata": {
        "colab": {
          "base_uri": "https://localhost:8080/"
        },
        "id": "iGWYIRhuMzJL",
        "outputId": "e40def5c-6d8a-4600-dd87-a29b2ed59dd5"
      },
      "source": [
        "Y_test"
      ],
      "execution_count": 19,
      "outputs": [
        {
          "output_type": "execute_result",
          "data": {
            "text/plain": [
              "199    -2.460\n",
              "891    -2.550\n",
              "836    -1.803\n",
              "1026   -2.452\n",
              "911    -7.200\n",
              "        ...  \n",
              "959    -2.610\n",
              "10     -4.630\n",
              "1061   -4.522\n",
              "282    -0.830\n",
              "141    -0.400\n",
              "Name: logS, Length: 229, dtype: float64"
            ]
          },
          "metadata": {},
          "execution_count": 19
        }
      ]
    },
    {
      "cell_type": "code",
      "metadata": {
        "colab": {
          "base_uri": "https://localhost:8080/"
        },
        "id": "3hGBYEIPM7Fn",
        "outputId": "2fbbfb0c-e83c-4271-b693-aaee996425db"
      },
      "source": [
        "import numpy as np\n",
        "np.array(Y_test)"
      ],
      "execution_count": 20,
      "outputs": [
        {
          "output_type": "execute_result",
          "data": {
            "text/plain": [
              "array([-2.46 , -2.55 , -1.803, -2.452, -7.2  , -5.153, -5.293, -4.69 ,\n",
              "       -1.11 , -3.638, -5.259, -4.14 ,  0.38 , -0.72 , -1.155, -5.24 ,\n",
              "       -5.282, -4.81 , -2.19 ,  0.47 , -4.02 , -2.39 , -3.42 , -5.08 ,\n",
              "       -1.28 , -4.63 , -5.17 , -4.21 , -3.754,  1.02 , -1.52 , -3.8  ,\n",
              "       -0.59 , -1.995, -4.432, -5.27 , -3.3  , -0.31 , -0.15 , -6.89 ,\n",
              "       -2.518, -2.925, -2.37 , -5.05 , -5.35 , -2.35 , -5.46 , -4.099,\n",
              "       -3.401, -1.99 , -1.32 , -1.73 , -1.96 , -2.29 , -6.56 , -4.8  ,\n",
              "       -0.6  , -4.42 , -4.74 , -3.8  , -1.6  , -2.09 , -1.84 , -5.27 ,\n",
              "       -2.273, -5.82 , -4.48 , -1.47 , -0.092, -3.083, -3.893, -3.15 ,\n",
              "       -1.807, -0.22 , -1.19 , -4.8  , -1.68 , -6.78 , -2.077, -0.77 ,\n",
              "       -2.29 ,  0.07 , -4.23 , -3.1  , -1.24 , -5.19 , -2.94 , -1.28 ,\n",
              "       -3.05 , -3.   , -0.466, -3.324, -1.877, -9.018, -5.21 , -2.31 ,\n",
              "       -1.74 , -4.77 , -3.03 ,  0.94 , -6.176, -1.94 , -4.06 , -5.19 ,\n",
              "       -3.38 , -7.39 , -7.66 , -3.817, -3.082, -2.322, -0.77 , -4.66 ,\n",
              "       -4.706, -3.08 , -2.22 , -2.74 , -4.63 , -1.93 , -1.64 , -2.168,\n",
              "        1.144, -2.13 , -4.71 , -2.68 , -3.127, -1.77 , -3.73 , -3.091,\n",
              "       -4.14 , -3.23 , -3.094, -3.952, -3.76 , -2.73 ,  0.7  , -2.322,\n",
              "       -3.927, -4.743, -2.42 , -2.55 , -0.12 , -1.21 , -3.46 , -4.92 ,\n",
              "       -5.03 , -0.6  , -2.468, -2.51 , -4.21 , -2.17 , -3.68 , -3.09 ,\n",
              "       -3.928, -4.17 , -2.22 , -0.78 , -1.6  ,  1.02 , -0.98 , -7.278,\n",
              "        0.79 , -3.18 , -4.   , -1.04 , -0.12 , -1.25 , -2.766, -1.64 ,\n",
              "       -2.23 , -3.08 , -4.8  , -1.62 , -4.57 , -0.79 , -1.5  , -2.46 ,\n",
              "       -6.57 , -1.74 , -2.62 , -3.27 , -7.   , -1.29 , -0.4  , -8.4  ,\n",
              "       -4.54 , -2.34 , -4.   , -8.23 , -3.37 , -4.35 , -4.16 , -2.43 ,\n",
              "       -4.47 , -8.176, -3.043, -1.3  , -5.233, -1.981,  0.58 , -2.23 ,\n",
              "       -3.17 , -3.24 , -3.604,  0.43 , -3.21 , -3.75 , -1.85 , -6.08 ,\n",
              "       -3.538, -6.317,  0.52 , -0.62 , -0.807, -4.93 , -0.63 , -2.24 ,\n",
              "       -0.59 ,  1.1  , -0.42 , -4.402, -5.56 , -1.89 , -1.92 , -4.43 ,\n",
              "       -2.61 , -4.63 , -4.522, -0.83 , -0.4  ])"
            ]
          },
          "metadata": {},
          "execution_count": 20
        }
      ]
    },
    {
      "cell_type": "code",
      "metadata": {
        "colab": {
          "base_uri": "https://localhost:8080/"
        },
        "id": "zTKdiOFVNGSj",
        "outputId": "57c37197-efc3-4789-edc9-fe9a988354ae"
      },
      "source": [
        "Y_pred"
      ],
      "execution_count": 21,
      "outputs": [
        {
          "output_type": "execute_result",
          "data": {
            "text/plain": [
              "array([-2.69810968, -2.70194662, -2.01918833, -2.46537633, -6.52544856,\n",
              "       -4.19602635, -7.35583336, -3.31392768, -1.42244037, -3.74863492,\n",
              "       -6.53116398, -3.79040907, -2.0251948 , -1.42244037, -0.34251908,\n",
              "       -4.67526117, -4.45411901, -3.70472207, -1.78455714, -0.78998103,\n",
              "       -4.6642238 , -2.67688649, -3.30358204, -2.8102165 , -2.20559867,\n",
              "       -5.40064916, -4.07563185, -4.36760527, -4.25574182, -1.32148688,\n",
              "       -2.33176658, -3.7716805 , -0.42076919, -2.05732038, -5.47720456,\n",
              "       -3.7356177 , -3.13660164,  0.60970892, -0.96710552, -6.12325813,\n",
              "       -3.83221932, -4.00573479, -2.240761  , -3.09121939, -5.72475588,\n",
              "       -2.20942106, -5.1229892 , -4.47870672, -0.86291727, -2.64458296,\n",
              "       -1.89124942, -1.87259213, -1.87758885, -2.17585779, -5.02951856,\n",
              "       -2.62964043, -1.51470495, -5.35539488, -2.74944192, -3.31392768,\n",
              "       -2.10988474, -1.44108989, -1.5251931 , -5.02951856, -0.97734488,\n",
              "       -5.5028167 , -3.93227594, -1.89448765, -0.79368116, -3.58256775,\n",
              "       -4.74986401, -4.49719543, -1.8791708 , -0.55929156, -1.85787409,\n",
              "       -5.05676229, -2.31735522, -6.66628453, -1.47922572, -1.24618685,\n",
              "       -2.23204658, -1.48797169, -4.26097872, -2.01494559, -0.847992  ,\n",
              "       -3.29185716, -3.36716314, -2.03220515, -3.24915606, -3.85124151,\n",
              "       -1.65912776, -3.81184374, -2.37563831, -6.6944351 , -5.02951856,\n",
              "       -2.65914541, -2.8015459 , -4.84423997, -2.5887291 , -0.70093379,\n",
              "       -4.90246219, -1.05966016, -3.07781469, -5.44130029, -3.4795386 ,\n",
              "       -6.42090191, -8.52584212, -4.82259163, -2.81961953, -1.97925137,\n",
              "       -0.641564  , -4.18586911, -4.31495607, -2.60892988, -0.45121719,\n",
              "       -2.57758993, -3.29490718, -3.28395696, -1.21616087, -2.10246141,\n",
              "       -3.06755503, -2.29521913, -5.53208803, -3.0876245 , -3.05990707,\n",
              "       -2.003949  , -2.35488165, -3.52464097, -3.68685369, -1.98671278,\n",
              "       -2.9581024 , -3.75501631, -4.16654569, -1.52825587,  1.15074374,\n",
              "       -1.97925137, -3.93483653, -4.64414705, -2.28717955, -2.96793777,\n",
              "       -1.20546924, -1.9368289 , -3.98350786, -5.00276083, -4.19656004,\n",
              "       -1.14455953, -2.11201457, -2.21117117, -4.85813467, -2.2830042 ,\n",
              "       -2.07387875, -3.21176047, -3.92822201, -3.63241177, -2.96988824,\n",
              "       -1.67507392, -1.84690287, -1.32148688, -1.90924437, -8.66920333,\n",
              "        1.88464515, -1.70570988, -3.14235779, -1.4371971 , -1.65912776,\n",
              "        0.79958884, -1.65355767, -1.91811733, -1.44580386, -2.85421839,\n",
              "       -3.72174164, -2.74336236, -4.62243603, -1.12149766, -2.76359495,\n",
              "       -2.23756661, -5.79638421, -1.88142579, -3.37775783, -4.28246069,\n",
              "       -5.19441713, -2.32187976,  0.43542357, -5.93075488, -4.33904902,\n",
              "       -2.57155553, -2.91916182, -6.02426973, -4.49719543, -4.18225323,\n",
              "       -3.38886222, -2.15047297, -3.60819863, -7.72343436, -3.49413611,\n",
              "       -1.80922716, -5.46740458, -1.46986784, -0.5446628 , -3.24606254,\n",
              "       -2.57758993, -3.81943917, -4.46126829, -2.51533506, -2.69302099,\n",
              "       -2.93380148, -1.98659502, -3.38257632, -3.41818682, -6.16125375,\n",
              "       -0.9275884 , -1.4655442 , -0.20976707, -6.10356674, -0.72082249,\n",
              "       -2.36763237, -1.34886477, -1.04994551, -1.05373844, -4.64414705,\n",
              "       -4.62243603, -1.84125219, -2.11327204, -5.2849667 , -1.39721675,\n",
              "       -4.62243603, -6.43160273, -1.66392615, -1.08378495])"
            ]
          },
          "metadata": {},
          "execution_count": 21
        }
      ]
    },
    {
      "cell_type": "code",
      "metadata": {
        "colab": {
          "base_uri": "https://localhost:8080/",
          "height": 350
        },
        "id": "OLx-muiLNPpd",
        "outputId": "fbd30df1-8d8e-4ba2-9482-1b7615b89ced"
      },
      "source": [
        "# Making scatter plot\n",
        "import seaborn as sns\n",
        "import matplotlib.pyplot as plt\n",
        "%matplotlib inline\n",
        "sns.scatterplot(Y_test, Y_pred)"
      ],
      "execution_count": 27,
      "outputs": [
        {
          "output_type": "stream",
          "name": "stderr",
          "text": [
            "/usr/local/lib/python3.7/dist-packages/seaborn/_decorators.py:43: FutureWarning: Pass the following variables as keyword args: x, y. From version 0.12, the only valid positional argument will be `data`, and passing other arguments without an explicit keyword will result in an error or misinterpretation.\n",
            "  FutureWarning\n"
          ]
        },
        {
          "output_type": "execute_result",
          "data": {
            "text/plain": [
              "<matplotlib.axes._subplots.AxesSubplot at 0x7f6122a08d10>"
            ]
          },
          "metadata": {},
          "execution_count": 27
        },
        {
          "output_type": "display_data",
          "data": {
            "image/png": "[encoded data removed]",
            "text/plain": [
              "<Figure size 432x288 with 1 Axes>"
            ]
          },
          "metadata": {
            "needs_background": "light"
          }
        }
      ]
    },
    {
      "cell_type": "code",
      "metadata": {
        "colab": {
          "base_uri": "https://localhost:8080/",
          "height": 350
        },
        "id": "kKEg93TCNbmP",
        "outputId": "2fad0fc4-d087-49a3-c207-16ec2d390a8b"
      },
      "source": [
        "sns.scatterplot(Y_test, Y_pred, marker=\"+\")"
      ],
      "execution_count": 23,
      "outputs": [
        {
          "output_type": "stream",
          "name": "stderr",
          "text": [
            "/usr/local/lib/python3.7/dist-packages/seaborn/_decorators.py:43: FutureWarning: Pass the following variables as keyword args: x, y. From version 0.12, the only valid positional argument will be `data`, and passing other arguments without an explicit keyword will result in an error or misinterpretation.\n",
            "  FutureWarning\n"
          ]
        },
        {
          "output_type": "execute_result",
          "data": {
            "text/plain": [
              "<matplotlib.axes._subplots.AxesSubplot at 0x7f6122f70d90>"
            ]
          },
          "metadata": {},
          "execution_count": 23
        },
        {
          "output_type": "display_data",
          "data": {
            "image/png": "[encoded data removed]",
            "text/plain": [
              "<Figure size 432x288 with 1 Axes>"
            ]
          },
          "metadata": {
            "needs_background": "light"
          }
        }
      ]
    },
    {
      "cell_type": "code",
      "metadata": {
        "colab": {
          "base_uri": "https://localhost:8080/",
          "height": 351
        },
        "id": "FLxzFdqgNgZD",
        "outputId": "6cd11070-5591-45e0-fcbb-4b163de5cf34"
      },
      "source": [
        "\n",
        "sns.scatterplot(Y_test, Y_pred, alpha=0.5)\n",
        "# Set x-axis label\n",
        "plt.xlabel('Y_test')\n",
        "# Set y-axis label\n",
        "plt.ylabel('Y_pred')\n",
        "\n"
      ],
      "execution_count": 28,
      "outputs": [
        {
          "output_type": "stream",
          "name": "stderr",
          "text": [
            "/usr/local/lib/python3.7/dist-packages/seaborn/_decorators.py:43: FutureWarning: Pass the following variables as keyword args: x, y. From version 0.12, the only valid positional argument will be `data`, and passing other arguments without an explicit keyword will result in an error or misinterpretation.\n",
            "  FutureWarning\n"
          ]
        },
        {
          "output_type": "execute_result",
          "data": {
            "text/plain": [
              "Text(0, 0.5, 'Y_pred')"
            ]
          },
          "metadata": {},
          "execution_count": 28
        },
        {
          "output_type": "display_data",
          "data": {
            "image/png": "[encoded data removed]",
            "text/plain": [
              "<Figure size 432x288 with 1 Axes>"
            ]
          },
          "metadata": {
            "needs_background": "light"
          }
        }
      ]
    },
    {
      "cell_type": "markdown",
      "metadata": {
        "id": "BA_Gv8G8PJvg"
      },
      "source": [
        "# Reference\n",
        "John S. Delaney. ESOL:  Estimating Aqueous Solubility Directly from Molecular Structure. J. Chem. Inf. Comput. Sci. 2004, 44, 3, 1000-1005."
      ]
    }
  ]
}